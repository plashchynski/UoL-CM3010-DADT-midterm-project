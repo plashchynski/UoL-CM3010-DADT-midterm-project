{
 "cells": [
  {
   "cell_type": "markdown",
   "metadata": {},
   "source": [
    "# SNPedia Dataset"
   ]
  },
  {
   "cell_type": "markdown",
   "metadata": {},
   "source": [
    "There is a [SNPedia Bulk API](https://www.snpedia.com/index.php/Bulk) to fetch the data from [SNPedia](https://www.snpedia.com/), which is distributed under a [Creative Commons Attribution-Noncommercial-Share Alike 3.0 United States License](http://creativecommons.org/licenses/by-nc-sa/3.0/us/)."
   ]
  },
  {
   "cell_type": "markdown",
   "metadata": {},
   "source": [
    "First, install neccessary packages:"
   ]
  },
  {
   "cell_type": "code",
   "execution_count": 11,
   "metadata": {},
   "outputs": [
    {
     "name": "stdout",
     "output_type": "stream",
     "text": [
      "Requirement already satisfied: requests in ./.venv/lib/python3.12/site-packages (from -r requirements.txt (line 1)) (2.31.0)\n",
      "Requirement already satisfied: mwparserfromhell in ./.venv/lib/python3.12/site-packages (from -r requirements.txt (line 2)) (0.6.5)\n",
      "Requirement already satisfied: tqdm in ./.venv/lib/python3.12/site-packages (from -r requirements.txt (line 3)) (4.66.1)\n",
      "Collecting pandas (from -r requirements.txt (line 4))\n",
      "  Downloading pandas-2.1.4-cp312-cp312-macosx_11_0_arm64.whl.metadata (18 kB)\n",
      "Requirement already satisfied: charset-normalizer<4,>=2 in ./.venv/lib/python3.12/site-packages (from requests->-r requirements.txt (line 1)) (3.3.2)\n",
      "Requirement already satisfied: idna<4,>=2.5 in ./.venv/lib/python3.12/site-packages (from requests->-r requirements.txt (line 1)) (3.6)\n",
      "Requirement already satisfied: urllib3<3,>=1.21.1 in ./.venv/lib/python3.12/site-packages (from requests->-r requirements.txt (line 1)) (2.1.0)\n",
      "Requirement already satisfied: certifi>=2017.4.17 in ./.venv/lib/python3.12/site-packages (from requests->-r requirements.txt (line 1)) (2023.11.17)\n",
      "Collecting numpy<2,>=1.26.0 (from pandas->-r requirements.txt (line 4))\n",
      "  Downloading numpy-1.26.2-cp312-cp312-macosx_11_0_arm64.whl.metadata (61 kB)\n",
      "\u001b[2K     \u001b[90m━━━━━━━━━━━━━━━━━━━━━━━━━━━━━━━━━━━━━━━\u001b[0m \u001b[32m61.2/61.2 kB\u001b[0m \u001b[31m479.0 kB/s\u001b[0m eta \u001b[36m0:00:00\u001b[0ma \u001b[36m0:00:01\u001b[0m\n",
      "\u001b[?25hRequirement already satisfied: python-dateutil>=2.8.2 in ./.venv/lib/python3.12/site-packages (from pandas->-r requirements.txt (line 4)) (2.8.2)\n",
      "Collecting pytz>=2020.1 (from pandas->-r requirements.txt (line 4))\n",
      "  Downloading pytz-2023.3.post1-py2.py3-none-any.whl.metadata (22 kB)\n",
      "Collecting tzdata>=2022.1 (from pandas->-r requirements.txt (line 4))\n",
      "  Downloading tzdata-2023.3-py2.py3-none-any.whl (341 kB)\n",
      "\u001b[2K     \u001b[90m━━━━━━━━━━━━━━━━━━━━━━━━━━━━━━━━━━━━━\u001b[0m \u001b[32m341.8/341.8 kB\u001b[0m \u001b[31m616.7 kB/s\u001b[0m eta \u001b[36m0:00:00\u001b[0m00:01\u001b[0m00:01\u001b[0m\n",
      "\u001b[?25hRequirement already satisfied: six>=1.5 in ./.venv/lib/python3.12/site-packages (from python-dateutil>=2.8.2->pandas->-r requirements.txt (line 4)) (1.16.0)\n",
      "Downloading pandas-2.1.4-cp312-cp312-macosx_11_0_arm64.whl (10.6 MB)\n",
      "\u001b[2K   \u001b[90m━━━━━━━━━━━━━━━━━━━━━━━━━━━━━━━━━━━━━━━━\u001b[0m \u001b[32m10.6/10.6 MB\u001b[0m \u001b[31m975.5 kB/s\u001b[0m eta \u001b[36m0:00:00\u001b[0m00:01\u001b[0m00:01\u001b[0m\n",
      "\u001b[?25hDownloading numpy-1.26.2-cp312-cp312-macosx_11_0_arm64.whl (13.7 MB)\n",
      "\u001b[2K   \u001b[90m━━━━━━━━━━━━━━━━━━━━━━━━━━━━━━━━━━━━━━━━\u001b[0m \u001b[32m13.7/13.7 MB\u001b[0m \u001b[31m483.4 kB/s\u001b[0m eta \u001b[36m0:00:00\u001b[0m00:01\u001b[0m00:01\u001b[0m\n",
      "\u001b[?25hDownloading pytz-2023.3.post1-py2.py3-none-any.whl (502 kB)\n",
      "\u001b[2K   \u001b[90m━━━━━━━━━━━━━━━━━━━━━━━━━━━━━━━━━━━━━━━━\u001b[0m \u001b[32m502.5/502.5 kB\u001b[0m \u001b[31m2.0 MB/s\u001b[0m eta \u001b[36m0:00:00\u001b[0ma \u001b[36m0:00:01\u001b[0m\n",
      "\u001b[?25hInstalling collected packages: pytz, tzdata, numpy, pandas\n",
      "Successfully installed numpy-1.26.2 pandas-2.1.4 pytz-2023.3.post1 tzdata-2023.3\n",
      "Note: you may need to restart the kernel to use updated packages.\n"
     ]
    }
   ],
   "source": [
    "%pip install -r requirements.txt"
   ]
  },
  {
   "cell_type": "markdown",
   "metadata": {},
   "source": [
    "Import the packages:"
   ]
  },
  {
   "cell_type": "code",
   "execution_count": 12,
   "metadata": {},
   "outputs": [],
   "source": [
    "from itertools import batched\n",
    "import pickle\n",
    "\n",
    "\n",
    "import requests\n",
    "import mwparserfromhell\n",
    "from tqdm.auto import tqdm\n",
    "import pandas as pd"
   ]
  },
  {
   "cell_type": "markdown",
   "metadata": {},
   "source": [
    "First, we need to fetch a list of all pages that describe SNPs:"
   ]
  },
  {
   "cell_type": "code",
   "execution_count": 25,
   "metadata": {},
   "outputs": [
    {
     "name": "stdout",
     "output_type": "stream",
     "text": [
      "fetching \n",
      "fetching page|4935303030383334|266945\n",
      "fetching page|4935303039323437|229614\n",
      "fetching page|4935303130353537|229765\n",
      "fetching page|4936303036373739|181968\n",
      "fetching page|4936303134353832|231269\n",
      "fetching page|525331303034343637|11405\n",
      "fetching page|52533130323037333932|70296\n",
      "fetching page|5253313034343139|156414\n",
      "fetching page|5253313034383836323838|63450\n",
      "fetching page|5253313034383933393632|26337\n",
      "fetching page|5253313034383934353036|26835\n",
      "fetching page|5253313034383935333733|124415\n",
      "fetching page|525331303531393230|45370\n",
      "fetching page|525331303537353136333732|239033\n",
      "fetching page|525331303537353136383736|237135\n",
      "fetching page|525331303537353137333830|235295\n",
      "fetching page|525331303537353138303136|238232\n",
      "fetching page|525331303537353138383436|238694\n",
      "fetching page|525331303537353139353633|236723\n",
      "fetching page|525331303537353230323931|237764\n",
      "fetching page|525331303537353234313634|232593\n",
      "fetching page|525331303630343939393631|240282\n",
      "fetching page|525331303630353032343832|237996\n",
      "fetching page|525331303634373933313134|238565\n",
      "fetching page|525331303634373934303638|241428\n",
      "fetching page|525331303634373935343137|237475\n",
      "fetching page|525331303634373936373032|240685\n",
      "fetching page|52533130373731323833|14654\n",
      "fetching page|525331303835333037323035|232981\n",
      "fetching page|525331303835333037393732|232031\n",
      "fetching page|52533130393538343736|10987\n",
      "fetching page|5253313131303333323332|57695\n",
      "fetching page|5253313131333230373539|145387\n",
      "fetching page|5253313132313131333036|130173\n",
      "fetching page|525331313331343938|20902\n",
      "fetching page|5253313133393934303337|27487\n",
      "fetching page|5253313135353530363830|71120\n",
      "fetching page|5253313136363234333437|113659\n",
      "fetching page|52533131373732353835|154997\n",
      "fetching page|5253313138323034303739|27799\n",
      "fetching page|5253313139343733303333|28037\n",
      "fetching page|52533132313233333833|70446\n",
      "fetching page|52533132313535363233|37912\n",
      "fetching page|5253313231393038343139|29027\n",
      "fetching page|5253313231393038393732|29456\n",
      "fetching page|5253313231393039353837|29952\n",
      "fetching page|5253313231393132373136|41744\n",
      "fetching page|5253313231393133333232|68073\n",
      "fetching page|5253313231393137393732|232679\n",
      "fetching page|5253313231393138343938|30652\n",
      "fetching page|5253313231393635303737|31110\n",
      "fetching page|52533132343232313439|9696\n",
      "fetching page|52533132353933333635|44620\n",
      "fetching page|52533132373838313032|98680\n",
      "fetching page|52533133303538343637|100755\n",
      "fetching page|5253313332373734|69472\n",
      "fetching page|525331333634343032|100124\n",
      "fetching page|5253313337383532363235|43066\n",
      "fetching page|5253313337383533313438|43541\n",
      "fetching page|5253313337383534373539|53442\n",
      "fetching page|525331343032333636|13682\n",
      "fetching page|5253313432393531303239|87148\n",
      "fetching page|5253313435383637333237|267158\n",
      "fetching page|5253313438363938363530|260679\n",
      "fetching page|5253313531333431313039|54468\n",
      "fetching page|525331353338313338|70253\n",
      "fetching page|525331353939373935|113151\n",
      "fetching page|52533136393130303631|16274\n",
      "fetching page|52533137303831393335|39013\n",
      "fetching page|52533137323933363332|25762\n",
      "fetching page|52533137363238393331|38500\n",
      "fetching page|5253313739303139|33542\n",
      "fetching page|5253313830313737313635|48630\n",
      "fetching page|5253313834323334|69157\n",
      "fetching page|525331393030313733|156398\n",
      "fetching page|5253313933393232323834|55085\n",
      "fetching page|525331393632|114625\n",
      "fetching page|5253313939343732373131|123384\n",
      "fetching page|5253313939343733323533|119924\n",
      "fetching page|5253313939343734343430|51229\n",
      "fetching page|5253313939353930343439|133880\n",
      "fetching page|5253323030383236343234|190746\n",
      "fetching page|5253323032303434393733|103035\n",
      "fetching page|525332303630303730|72943\n",
      "fetching page|525332303830343031|34068\n",
      "fetching page|525332313932373532|44652\n",
      "fetching page|525332323336323132|38886\n",
      "fetching page|525332323730373738|130673\n",
      "fetching page|525332323931363637|21949\n",
      "fetching page|525332333331383431|45599\n",
      "fetching page|525332343631343833|21945\n",
      "fetching page|52533235393235|113082\n",
      "fetching page|5253323637363036373337|84290\n",
      "fetching page|5253323637363037323632|74745\n",
      "fetching page|5253323637363038353835|154140\n",
      "fetching page|5253323735363533|181323\n",
      "fetching page|5253323831383630353839|76068\n",
      "fetching page|5253323831383734373133|88597\n",
      "fetching page|525332383437343736|11164\n",
      "fetching page|52533238393332313731|73321\n",
      "fetching page|52533238393337353736|2633\n",
      "fetching page|525332393139303039|99231\n",
      "fetching page|525333303933313335|10086\n",
      "fetching page|525333313336373137|151586\n",
      "fetching page|52533333393433303031|31311\n",
      "fetching page|52533334363236333732|19162\n",
      "fetching page|52533335363137353735|71969\n",
      "fetching page|5253333637383338383037|165777\n",
      "fetching page|5253333732303534333830|168755\n",
      "fetching page|5253333734333439393839|146012\n",
      "fetching page|525333373631333831|253701\n",
      "fetching page|525333373739353132|263405\n",
      "fetching page|525333383137393633|69878\n",
      "fetching page|5253333836383333343634|77439\n",
      "fetching page|5253333836383333393634|83113\n",
      "fetching page|5253333837393036343534|97679\n",
      "fetching page|5253333837393036393639|95074\n",
      "fetching page|525333393133333633|66917\n",
      "fetching page|5253333937353037373035|93510\n",
      "fetching page|5253333937353038333230|91096\n",
      "fetching page|5253333937353039303734|95965\n",
      "fetching page|5253333937353134353038|107070\n",
      "fetching page|5253333937353135353539|111700\n",
      "fetching page|5253333937353136363433|101208\n",
      "fetching page|5253333938313232363239|109341\n",
      "fetching page|5253333938313233333039|108738\n",
      "fetching page|5253333938313234323939|104985\n",
      "fetching page|52533431333931343438|156321\n",
      "fetching page|52533431353532323231|53900\n",
      "fetching page|525334323639383835|18623\n",
      "fetching page|525334343733363533|18684\n",
      "fetching page|525334363031333236|13791\n",
      "fetching page|525334373238313432|4935\n",
      "fetching page|525334383231313132|20745\n",
      "fetching page|525334393137|1644\n",
      "fetching page|525335303330383238|233353\n",
      "fetching page|52533532383039343437|129074\n",
      "fetching page|5253353536323035|20466\n",
      "fetching page|5253353731323133|282308\n",
      "fetching page|5253353837373736343436|123210\n",
      "fetching page|5253353837373736393939|127248\n",
      "fetching page|5253353837373737353335|125471\n",
      "fetching page|5253353837373738393334|138234\n",
      "fetching page|5253353837373739363336|137080\n",
      "fetching page|5253353837373831373330|144991\n",
      "fetching page|5253353837373833343334|141931\n",
      "fetching page|5253353837373834303836|140269\n",
      "fetching page|52533539353032333739|268799\n",
      "fetching page|5253363036323331333034|153206\n",
      "fetching page|52533631373438333930|154634\n",
      "fetching page|525336313934|263298\n",
      "fetching page|5253363334333038|66519\n",
      "fetching page|52533633373530373238|101763\n",
      "fetching page|525336343339313637|23938\n",
      "fetching page|525336353538383732|112288\n",
      "fetching page|5253363730353233|69612\n",
      "fetching page|525336373939373637|20405\n",
      "fetching page|525336393334393730|113816\n",
      "fetching page|525337303831373335|43974\n",
      "fetching page|525337313832383734|115684\n",
      "fetching page|52533732353531333533|75004\n",
      "fetching page|52533732363533373630|59773\n",
      "fetching page|5253373237353033383733|147805\n",
      "fetching page|5253373330343639|8113\n",
      "fetching page|5253373330383830383333|147635\n",
      "fetching page|5253373330383832323037|139655\n",
      "fetching page|52533734333135333330|32680\n",
      "fetching page|5253373436373736323534|267963\n",
      "fetching page|525337343939323731|115214\n",
      "fetching page|525337353238343139|41062\n",
      "fetching page|5253373535343935383436|201804\n",
      "fetching page|525337353831383836|214253\n",
      "fetching page|5253373631323332363431|267376\n",
      "fetching page|5253373634313039303637|196143\n",
      "fetching page|5253373637303431303639|238705\n",
      "fetching page|5253373639393130353635|208248\n",
      "fetching page|5253373733303130373938|234234\n",
      "fetching page|525337373536353231|19418\n",
      "fetching page|5253373738363138373130|239081\n",
      "fetching page|5253373831373638393635|236040\n",
      "fetching page|5253373836323031383536|139687\n",
      "fetching page|5253373836323034353437|146875\n",
      "fetching page|5253373836323035323533|142165\n",
      "fetching page|525337383937313536|254113\n",
      "fetching page|5253373934373236393733|162842\n",
      "fetching page|5253373934373238333032|174991\n",
      "fetching page|5253373934373239303532|176670\n",
      "fetching page|5253373936303532313636|171791\n",
      "fetching page|5253373936303533323834|180109\n",
      "fetching page|5253373937303434383334|164868\n",
      "fetching page|5253373937303435353132|180045\n",
      "fetching page|5253383031313134|8662\n",
      "fetching page|52533830333536363130|33296\n",
      "fetching page|52533830333537353931|86390\n",
      "fetching page|52533830333538323233|33397\n",
      "fetching page|52533830333539333936|81488\n",
      "fetching page|525338303439363831|67968\n",
      "fetching page|525338313932393136|69737\n",
      "fetching page|5253383633323233373737|173638\n",
      "fetching page|5253383633323234393435|171487\n",
      "fetching page|5253383634333039343834|166976\n",
      "fetching page|525338363832|270543\n",
      "fetching page|5253383639333132363831|191328\n",
      "fetching page|5253383735393839383335|188767\n",
      "fetching page|5253383736363539333139|191538\n",
      "fetching page|5253383738383533313137|185819\n",
      "fetching page|5253383738383534363036|191753\n",
      "fetching page|5253383739323534343432|204490\n",
      "fetching page|5253383739323535303231|205634\n",
      "fetching page|5253383831313532|22269\n",
      "fetching page|5253383836303338303933|198897\n",
      "fetching page|5253383836303339353439|201207\n",
      "fetching page|5253383836303430303936|202928\n",
      "fetching page|5253383836303430353936|199422\n",
      "fetching page|5253383836303431313333|213504\n",
      "fetching page|5253383836303431363932|208574\n",
      "fetching page|5253383836303432373232|207756\n",
      "fetching page|5253383836303434373837|213458\n",
      "fetching page|525339323634363130|76154\n",
      "fetching page|525339333439343137|114137\n",
      "fetching page|525339353233373632|10770\n",
      "fetching page|525339373835383033|114824\n",
      "fetching page|525339393139383339|45542\n"
     ]
    }
   ],
   "source": [
    "snps = []\n",
    "cmcontinue = \"\"\n",
    "while True:\n",
    "    print(\"fetching {}\".format(cmcontinue))\n",
    "    response = requests.get('https://bots.snpedia.com/api.php?action=query&list=categorymembers&cmtitle=Category:Is_a_snp&cmlimit=500&format=json&cmcontinue={}'.format(cmcontinue))\n",
    "\n",
    "    # ensure the API call was successful\n",
    "    assert response.status_code == 200\n",
    "\n",
    "    # add the snps to the list\n",
    "    for snp in response.json()['query']['categorymembers']:\n",
    "        snps.append(snp['title'])\n",
    "\n",
    "    # we use the cmcontinue value in the next API call to get the next page of the results\n",
    "    if response.json().get('continue'):\n",
    "        cmcontinue = response.json()['continue']['cmcontinue']\n",
    "    else:\n",
    "        # stop interating if there are no more pages to fetch\n",
    "        break\n",
    "\n",
    "    if cmcontinue == '0|0':\n",
    "        break"
   ]
  },
  {
   "cell_type": "code",
   "execution_count": 4,
   "metadata": {},
   "outputs": [
    {
     "data": {
      "text/plain": [
       "111725"
      ]
     },
     "execution_count": 4,
     "metadata": {},
     "output_type": "execute_result"
    }
   ],
   "source": [
    "len(snps)"
   ]
  },
  {
   "cell_type": "markdown",
   "metadata": {},
   "source": [
    "Save a list of SNPs to a file to avoid fetching it again:"
   ]
  },
  {
   "cell_type": "code",
   "execution_count": 27,
   "metadata": {},
   "outputs": [],
   "source": [
    "pickle.dump(snps, open('dataset/snps.pkl', 'wb'))"
   ]
  },
  {
   "cell_type": "code",
   "execution_count": 3,
   "metadata": {},
   "outputs": [],
   "source": [
    "snps = pickle.load(open('dataset/snps.pkl', 'rb'))"
   ]
  },
  {
   "cell_type": "markdown",
   "metadata": {},
   "source": [
    "Create a Pandas dataframe to store the pages data in a row format:"
   ]
  },
  {
   "cell_type": "code",
   "execution_count": 27,
   "metadata": {},
   "outputs": [],
   "source": [
    "df = pd.DataFrame(columns=['snp', 'text'])"
   ]
  },
  {
   "cell_type": "markdown",
   "metadata": {},
   "source": [
    "Fetch the content of each SNP's page and store it in the dataframe:"
   ]
  },
  {
   "cell_type": "code",
   "execution_count": 28,
   "metadata": {},
   "outputs": [
    {
     "name": "stderr",
     "output_type": "stream",
     "text": [
      "2235it [29:57,  1.24it/s]\n"
     ]
    }
   ],
   "source": [
    "# split the list of snps into batches of 50\n",
    "for batch in tqdm(batched(snps, 50)):\n",
    "    # request 50 pages at a time (the maximum allowed)\n",
    "    response = requests.get('https://bots.snpedia.com/api.php?action=query&prop=revisions&rvslots=*&rvprop=content&format=json&titles={}'.format('|'.join(batch)))\n",
    "\n",
    "    # ensure the API call was successful\n",
    "    assert response.status_code == 200\n",
    "\n",
    "    pages = []\n",
    "    for id, page in response.json()['query']['pages'].items():\n",
    "        # snp is the title of the page\n",
    "        snp = page['title']\n",
    "\n",
    "        # text is the content of the page\n",
    "        text = page['revisions'][0]['slots']['main']['*']\n",
    "\n",
    "        # add the snp and text to the list\n",
    "        pages.append({'snp': snp, 'text': text})\n",
    "\n",
    "    # add new data to the dataframe\n",
    "    new_df = pd.DataFrame(pages, columns=['snp', 'text'])\n",
    "    df = pd.concat([df, new_df])"
   ]
  },
  {
   "cell_type": "code",
   "execution_count": 33,
   "metadata": {},
   "outputs": [
    {
     "data": {
      "text/html": [
       "<div>\n",
       "<style scoped>\n",
       "    .dataframe tbody tr th:only-of-type {\n",
       "        vertical-align: middle;\n",
       "    }\n",
       "\n",
       "    .dataframe tbody tr th {\n",
       "        vertical-align: top;\n",
       "    }\n",
       "\n",
       "    .dataframe thead th {\n",
       "        text-align: right;\n",
       "    }\n",
       "</style>\n",
       "<table border=\"1\" class=\"dataframe\">\n",
       "  <thead>\n",
       "    <tr style=\"text-align: right;\">\n",
       "      <th></th>\n",
       "      <th>text</th>\n",
       "    </tr>\n",
       "    <tr>\n",
       "      <th>snp</th>\n",
       "      <th></th>\n",
       "    </tr>\n",
       "  </thead>\n",
       "  <tbody>\n",
       "    <tr>\n",
       "      <th>I1000001</th>\n",
       "      <td>{{23andMe SNP\\n|Magnitude=\\n}}\\n[[haplogroups]...</td>\n",
       "    </tr>\n",
       "    <tr>\n",
       "      <th>I1000003</th>\n",
       "      <td>{{23andMe SNP\\n|Magnitude=\\n}}\\n\\n{{on chip | ...</td>\n",
       "    </tr>\n",
       "    <tr>\n",
       "      <th>I1000004</th>\n",
       "      <td>{{23andMe SNP\\n|Chromosome=MT\\n|position=8869\\...</td>\n",
       "    </tr>\n",
       "    <tr>\n",
       "      <th>I1000015</th>\n",
       "      <td>{{23andMe SNP\\n|Chromosome=MT\\n|position=6776\\...</td>\n",
       "    </tr>\n",
       "    <tr>\n",
       "      <th>I3000001</th>\n",
       "      <td>{{23andMe SNP\\n|iid=3000001\\n|rsid=113993960\\n...</td>\n",
       "    </tr>\n",
       "    <tr>\n",
       "      <th>...</th>\n",
       "      <td>...</td>\n",
       "    </tr>\n",
       "    <tr>\n",
       "      <th>Rs999905</th>\n",
       "      <td>{{Rsnum\\n|rsid=999905\\n|Gene=NTRK3\\n|Chromosom...</td>\n",
       "    </tr>\n",
       "    <tr>\n",
       "      <th>Rs9999118</th>\n",
       "      <td>{{Rsnum\\n|rsid=9999118\\n|Chromosome=4\\n|Orient...</td>\n",
       "    </tr>\n",
       "    <tr>\n",
       "      <th>Rs999943</th>\n",
       "      <td>{{Rsnum\\n|rsid=999943\\n|Gene=ITPR3\\n|Chromosom...</td>\n",
       "    </tr>\n",
       "    <tr>\n",
       "      <th>Rs999986</th>\n",
       "      <td>{{Rsnum\\n|rsid=999986\\n|Chromosome=14\\n|positi...</td>\n",
       "    </tr>\n",
       "    <tr>\n",
       "      <th>Rs9999991</th>\n",
       "      <td>{{Rsnum\\n|rsid=9999991\\n|Chromosome=4\\n|Orient...</td>\n",
       "    </tr>\n",
       "  </tbody>\n",
       "</table>\n",
       "<p>111725 rows × 1 columns</p>\n",
       "</div>"
      ],
      "text/plain": [
       "                                                        text\n",
       "snp                                                         \n",
       "I1000001   {{23andMe SNP\\n|Magnitude=\\n}}\\n[[haplogroups]...\n",
       "I1000003   {{23andMe SNP\\n|Magnitude=\\n}}\\n\\n{{on chip | ...\n",
       "I1000004   {{23andMe SNP\\n|Chromosome=MT\\n|position=8869\\...\n",
       "I1000015   {{23andMe SNP\\n|Chromosome=MT\\n|position=6776\\...\n",
       "I3000001   {{23andMe SNP\\n|iid=3000001\\n|rsid=113993960\\n...\n",
       "...                                                      ...\n",
       "Rs999905   {{Rsnum\\n|rsid=999905\\n|Gene=NTRK3\\n|Chromosom...\n",
       "Rs9999118  {{Rsnum\\n|rsid=9999118\\n|Chromosome=4\\n|Orient...\n",
       "Rs999943   {{Rsnum\\n|rsid=999943\\n|Gene=ITPR3\\n|Chromosom...\n",
       "Rs999986   {{Rsnum\\n|rsid=999986\\n|Chromosome=14\\n|positi...\n",
       "Rs9999991  {{Rsnum\\n|rsid=9999991\\n|Chromosome=4\\n|Orient...\n",
       "\n",
       "[111725 rows x 1 columns]"
      ]
     },
     "execution_count": 33,
     "metadata": {},
     "output_type": "execute_result"
    }
   ],
   "source": [
    "df"
   ]
  },
  {
   "cell_type": "code",
   "execution_count": 34,
   "metadata": {},
   "outputs": [],
   "source": [
    "df.to_pickle('dataset/snpedia.pkl')"
   ]
  },
  {
   "cell_type": "code",
   "execution_count": null,
   "metadata": {},
   "outputs": [],
   "source": []
  }
 ],
 "metadata": {
  "kernelspec": {
   "display_name": "base",
   "language": "python",
   "name": "python3"
  },
  "language_info": {
   "codemirror_mode": {
    "name": "ipython",
    "version": 3
   },
   "file_extension": ".py",
   "mimetype": "text/x-python",
   "name": "python",
   "nbconvert_exporter": "python",
   "pygments_lexer": "ipython3",
   "version": "3.12.1"
  }
 },
 "nbformat": 4,
 "nbformat_minor": 2
}
