{
 "cells": [
  {
   "cell_type": "markdown",
   "metadata": {},
   "source": [
    "# SNPedia Dataset"
   ]
  },
  {
   "cell_type": "markdown",
   "metadata": {},
   "source": [
    "This notebook describes a procedure to retrieve and dump the [SNPedia](https://www.snpedia.com/) data and store it in a CSV files for further processing. The data is distributed under a [Creative Commons Attribution-Noncommercial-Share Alike 3.0 United States License](http://creativecommons.org/licenses/by-nc-sa/3.0/us/). The SNPedia explicitly allows scraping of the data and provides a [Bulk API](https://www.snpedia.com/index.php/Bulk) to do so."
   ]
  },
  {
   "cell_type": "markdown",
   "metadata": {},
   "source": [
    "First, install necessary packages\n",
    "\n",
    "```bash\n",
    "pip install -r requirements.txt\n",
    "```\n",
    "\n"
   ]
  },
  {
   "cell_type": "markdown",
   "metadata": {},
   "source": [
    "Import the packages:"
   ]
  },
  {
   "cell_type": "code",
   "execution_count": 1,
   "metadata": {},
   "outputs": [
    {
     "name": "stderr",
     "output_type": "stream",
     "text": [
      "/Users/dima/dev/cm3010-databases-and-advanced-data-techniques-midterm/.venv/lib/python3.12/site-packages/tqdm/auto.py:21: TqdmWarning: IProgress not found. Please update jupyter and ipywidgets. See https://ipywidgets.readthedocs.io/en/stable/user_install.html\n",
      "  from .autonotebook import tqdm as notebook_tqdm\n"
     ]
    }
   ],
   "source": [
    "from itertools import batched\n",
    "import pickle\n",
    "import time\n",
    "\n",
    "\n",
    "import requests\n",
    "import mwparserfromhell\n",
    "from tqdm.auto import tqdm\n",
    "import pandas as pd"
   ]
  },
  {
   "cell_type": "code",
   "execution_count": 2,
   "metadata": {},
   "outputs": [],
   "source": [
    "from requests.adapters import HTTPAdapter\n",
    "from requests.packages.urllib3.util.retry import Retry\n",
    "\n",
    "retry_strategy = Retry(\n",
    "    total=3,\n",
    "    backoff_factor=1,\n",
    "    status_forcelist=[429, 500, 502, 503, 504]\n",
    ")\n",
    "adapter = HTTPAdapter(max_retries=retry_strategy)\n",
    "http = requests.Session()\n",
    "http.mount(\"https://\", adapter)\n",
    "http.mount(\"http://\", adapter)"
   ]
  },
  {
   "cell_type": "code",
   "execution_count": 3,
   "metadata": {},
   "outputs": [],
   "source": [
    "def fetch_titles_in_category(category_name: str) -> [str]:\n",
    "    \"\"\"\n",
    "    Fetches all titles in a category from the SNPedia API\n",
    "    \"\"\"\n",
    "\n",
    "    print(f\"Fetching titles in category {category_name}\", end=\"\")\n",
    "\n",
    "    titles = []\n",
    "    cmcontinue = \"\"\n",
    "    while True:\n",
    "        print(\".\", end=\"\")\n",
    "        response = http.get(f'https://bots.snpedia.com/api.php?action=query&list=categorymembers&cmtitle=Category:{category_name}&cmlimit=500&format=json&cmcontinue={cmcontinue}')\n",
    "\n",
    "        # ensure the API call was successful\n",
    "        response.raise_for_status()\n",
    "\n",
    "        # add the snps to the list\n",
    "        for snp in response.json()['query']['categorymembers']:\n",
    "            titles.append(snp['title'])\n",
    "\n",
    "        # we use the cmcontinue value in the next API call to get the next page of the results\n",
    "        if response.json().get('continue'):\n",
    "            cmcontinue = response.json()['continue']['cmcontinue']\n",
    "        else:\n",
    "            # stop iterating if there are no more pages to fetch\n",
    "            break\n",
    "\n",
    "        if cmcontinue == '0|0':\n",
    "            break\n",
    "\n",
    "    print(\"done\")\n",
    "    return titles"
   ]
  },
  {
   "cell_type": "code",
   "execution_count": 4,
   "metadata": {},
   "outputs": [],
   "source": [
    "def fetch_pages(titles: [str]) -> [dict]:\n",
    "    # request 50 pages at a time (the maximum allowed)\n",
    "    response = http.get('https://bots.snpedia.com/api.php?action=query&prop=revisions&rvslots=*&rvprop=content&format=json&titles={}'.format('|'.join(titles)))\n",
    "\n",
    "    # ensure the API call was successful\n",
    "    response.raise_for_status()\n",
    "\n",
    "    pages = []\n",
    "    for page in response.json()['query']['pages'].values():\n",
    "        # snp is the title of the page\n",
    "        title = page['title']\n",
    "\n",
    "        # text is the content of the page\n",
    "        text = page['revisions'][0]['slots']['main']['*']\n",
    "\n",
    "        # add the snp and text to the list\n",
    "        pages.append({'title': title, 'text': text})\n",
    "    \n",
    "    return pages"
   ]
  },
  {
   "cell_type": "code",
   "execution_count": 174,
   "metadata": {},
   "outputs": [],
   "source": [
    "def find_template(templates, name:str):\n",
    "    matched_templates = [template for template in templates if template.name.strip().lower() == name.lower()]\n",
    "    if matched_templates:\n",
    "        return matched_templates[0]\n",
    "    return None"
   ]
  },
  {
   "cell_type": "markdown",
   "metadata": {},
   "source": [
    "First, we need to fetch a list of all pages that describe SNPs:"
   ]
  },
  {
   "cell_type": "code",
   "execution_count": null,
   "metadata": {},
   "outputs": [],
   "source": [
    "snps = fetch_titles_in_category(\"Is_a_snp\")"
   ]
  },
  {
   "cell_type": "code",
   "execution_count": 4,
   "metadata": {},
   "outputs": [
    {
     "data": {
      "text/plain": [
       "111725"
      ]
     },
     "execution_count": 4,
     "metadata": {},
     "output_type": "execute_result"
    }
   ],
   "source": [
    "len(snps)"
   ]
  },
  {
   "cell_type": "markdown",
   "metadata": {},
   "source": [
    "Save a list of SNPs to a file to avoid fetching it again:"
   ]
  },
  {
   "cell_type": "code",
   "execution_count": 27,
   "metadata": {},
   "outputs": [],
   "source": [
    "pickle.dump(snps, open('dataset/snps.pkl', 'wb'))"
   ]
  },
  {
   "cell_type": "code",
   "execution_count": 3,
   "metadata": {},
   "outputs": [],
   "source": [
    "snps = pickle.load(open('dataset/snps.pkl', 'rb'))"
   ]
  },
  {
   "cell_type": "markdown",
   "metadata": {},
   "source": [
    "Create a Pandas dataframe to store the pages data in a row format:"
   ]
  },
  {
   "cell_type": "code",
   "execution_count": 27,
   "metadata": {},
   "outputs": [],
   "source": [
    "df = pd.DataFrame(columns=['title', 'text'])"
   ]
  },
  {
   "cell_type": "markdown",
   "metadata": {},
   "source": [
    "Fetch the content of each SNP's page and store it in the dataframe:"
   ]
  },
  {
   "cell_type": "code",
   "execution_count": 28,
   "metadata": {},
   "outputs": [
    {
     "name": "stderr",
     "output_type": "stream",
     "text": [
      "2235it [29:57,  1.24it/s]\n"
     ]
    }
   ],
   "source": [
    "# split the list of snps into batches of 50\n",
    "for batch in tqdm(batched(snps, 50)):\n",
    "    pages = fetch_pages(batch)\n",
    "\n",
    "    # add new data to the dataframe\n",
    "    new_df = pd.DataFrame(pages, columns=['title', 'text'])\n",
    "    df = pd.concat([df, new_df])"
   ]
  },
  {
   "cell_type": "code",
   "execution_count": null,
   "metadata": {},
   "outputs": [],
   "source": [
    "df.rename(columns={'title': 'snp'}, inplace=True)\n",
    "df.set_index('snp', inplace=True)"
   ]
  },
  {
   "cell_type": "markdown",
   "metadata": {},
   "source": [
    "Save the dataframe to a file to avoid fetching it again:\n"
   ]
  },
  {
   "cell_type": "code",
   "execution_count": 34,
   "metadata": {},
   "outputs": [],
   "source": [
    "df.to_pickle('dataset/snpedia.pkl')"
   ]
  },
  {
   "cell_type": "code",
   "execution_count": 5,
   "metadata": {},
   "outputs": [],
   "source": [
    "df = pd.read_pickle('dataset/snpedia.pkl')"
   ]
  },
  {
   "cell_type": "code",
   "execution_count": 7,
   "metadata": {},
   "outputs": [
    {
     "data": {
      "text/html": [
       "<div>\n",
       "<style scoped>\n",
       "    .dataframe tbody tr th:only-of-type {\n",
       "        vertical-align: middle;\n",
       "    }\n",
       "\n",
       "    .dataframe tbody tr th {\n",
       "        vertical-align: top;\n",
       "    }\n",
       "\n",
       "    .dataframe thead th {\n",
       "        text-align: right;\n",
       "    }\n",
       "</style>\n",
       "<table border=\"1\" class=\"dataframe\">\n",
       "  <thead>\n",
       "    <tr style=\"text-align: right;\">\n",
       "      <th></th>\n",
       "      <th>text</th>\n",
       "    </tr>\n",
       "    <tr>\n",
       "      <th>snp</th>\n",
       "      <th></th>\n",
       "    </tr>\n",
       "  </thead>\n",
       "  <tbody>\n",
       "    <tr>\n",
       "      <th>I1000001</th>\n",
       "      <td>{{23andMe SNP\\n|Magnitude=\\n}}\\n[[haplogroups]...</td>\n",
       "    </tr>\n",
       "    <tr>\n",
       "      <th>I1000003</th>\n",
       "      <td>{{23andMe SNP\\n|Magnitude=\\n}}\\n\\n{{on chip | ...</td>\n",
       "    </tr>\n",
       "    <tr>\n",
       "      <th>I1000004</th>\n",
       "      <td>{{23andMe SNP\\n|Chromosome=MT\\n|position=8869\\...</td>\n",
       "    </tr>\n",
       "    <tr>\n",
       "      <th>I1000015</th>\n",
       "      <td>{{23andMe SNP\\n|Chromosome=MT\\n|position=6776\\...</td>\n",
       "    </tr>\n",
       "    <tr>\n",
       "      <th>I3000001</th>\n",
       "      <td>{{23andMe SNP\\n|iid=3000001\\n|rsid=113993960\\n...</td>\n",
       "    </tr>\n",
       "    <tr>\n",
       "      <th>...</th>\n",
       "      <td>...</td>\n",
       "    </tr>\n",
       "    <tr>\n",
       "      <th>Rs999905</th>\n",
       "      <td>{{Rsnum\\n|rsid=999905\\n|Gene=NTRK3\\n|Chromosom...</td>\n",
       "    </tr>\n",
       "    <tr>\n",
       "      <th>Rs9999118</th>\n",
       "      <td>{{Rsnum\\n|rsid=9999118\\n|Chromosome=4\\n|Orient...</td>\n",
       "    </tr>\n",
       "    <tr>\n",
       "      <th>Rs999943</th>\n",
       "      <td>{{Rsnum\\n|rsid=999943\\n|Gene=ITPR3\\n|Chromosom...</td>\n",
       "    </tr>\n",
       "    <tr>\n",
       "      <th>Rs999986</th>\n",
       "      <td>{{Rsnum\\n|rsid=999986\\n|Chromosome=14\\n|positi...</td>\n",
       "    </tr>\n",
       "    <tr>\n",
       "      <th>Rs9999991</th>\n",
       "      <td>{{Rsnum\\n|rsid=9999991\\n|Chromosome=4\\n|Orient...</td>\n",
       "    </tr>\n",
       "  </tbody>\n",
       "</table>\n",
       "<p>111725 rows × 1 columns</p>\n",
       "</div>"
      ],
      "text/plain": [
       "                                                        text\n",
       "snp                                                         \n",
       "I1000001   {{23andMe SNP\\n|Magnitude=\\n}}\\n[[haplogroups]...\n",
       "I1000003   {{23andMe SNP\\n|Magnitude=\\n}}\\n\\n{{on chip | ...\n",
       "I1000004   {{23andMe SNP\\n|Chromosome=MT\\n|position=8869\\...\n",
       "I1000015   {{23andMe SNP\\n|Chromosome=MT\\n|position=6776\\...\n",
       "I3000001   {{23andMe SNP\\n|iid=3000001\\n|rsid=113993960\\n...\n",
       "...                                                      ...\n",
       "Rs999905   {{Rsnum\\n|rsid=999905\\n|Gene=NTRK3\\n|Chromosom...\n",
       "Rs9999118  {{Rsnum\\n|rsid=9999118\\n|Chromosome=4\\n|Orient...\n",
       "Rs999943   {{Rsnum\\n|rsid=999943\\n|Gene=ITPR3\\n|Chromosom...\n",
       "Rs999986   {{Rsnum\\n|rsid=999986\\n|Chromosome=14\\n|positi...\n",
       "Rs9999991  {{Rsnum\\n|rsid=9999991\\n|Chromosome=4\\n|Orient...\n",
       "\n",
       "[111725 rows x 1 columns]"
      ]
     },
     "execution_count": 7,
     "metadata": {},
     "output_type": "execute_result"
    }
   ],
   "source": [
    "df"
   ]
  },
  {
   "cell_type": "markdown",
   "metadata": {},
   "source": [
    "Fetch a list of genotypes:"
   ]
  },
  {
   "cell_type": "code",
   "execution_count": 8,
   "metadata": {},
   "outputs": [
    {
     "name": "stdout",
     "output_type": "stream",
     "text": [
      "Fetching titles in category Is_a_genotype..................................................................................................................................................................................................................done\n"
     ]
    }
   ],
   "source": [
    "genotypes = fetch_titles_in_category(\"Is_a_genotype\")"
   ]
  },
  {
   "cell_type": "code",
   "execution_count": 9,
   "metadata": {},
   "outputs": [
    {
     "data": {
      "text/plain": [
       "104806"
      ]
     },
     "execution_count": 9,
     "metadata": {},
     "output_type": "execute_result"
    }
   ],
   "source": [
    "len(genotypes)"
   ]
  },
  {
   "cell_type": "markdown",
   "metadata": {},
   "source": [
    "Save a list of genotypes to a file to avoid fetching it again:"
   ]
  },
  {
   "cell_type": "code",
   "execution_count": 10,
   "metadata": {},
   "outputs": [],
   "source": [
    "pickle.dump(genotypes, open('dataset/genotypes.pkl', 'wb'))"
   ]
  },
  {
   "cell_type": "code",
   "execution_count": 11,
   "metadata": {},
   "outputs": [],
   "source": [
    "genotypes = pickle.load(open('dataset/genotypes.pkl', 'rb'))"
   ]
  },
  {
   "cell_type": "code",
   "execution_count": 12,
   "metadata": {},
   "outputs": [],
   "source": [
    "df = pd.DataFrame(columns=['title', 'text'])"
   ]
  },
  {
   "cell_type": "code",
   "execution_count": 13,
   "metadata": {},
   "outputs": [
    {
     "name": "stderr",
     "output_type": "stream",
     "text": [
      "0it [00:00, ?it/s]"
     ]
    },
    {
     "name": "stderr",
     "output_type": "stream",
     "text": [
      "2097it [54:53,  1.57s/it]\n"
     ]
    }
   ],
   "source": [
    "# split the list of genotypes into batches of 50\n",
    "for batch in tqdm(batched(genotypes, 50)):\n",
    "    time.sleep(1)\n",
    "    pages = fetch_pages(batch)\n",
    "\n",
    "    # add new data to the dataframe\n",
    "    new_df = pd.DataFrame(pages, columns=['title', 'text'])\n",
    "    df = pd.concat([df, new_df])"
   ]
  },
  {
   "cell_type": "code",
   "execution_count": null,
   "metadata": {},
   "outputs": [],
   "source": [
    "df.set_index('title', inplace=True)\n",
    "df[\"genotype\"] = df.index.str.extract(r'\\((.*)\\)', expand=False)\n",
    "df[\"snp\"] = df.index.str.extract(r'(.*)\\(.*\\)', expand=False)"
   ]
  },
  {
   "cell_type": "code",
   "execution_count": 82,
   "metadata": {},
   "outputs": [],
   "source": [
    "df[\"snp\"] = df[\"snp\"].str.lower()\n",
    "df[\"description\"] = df[\"text\"].apply(lambda x: mwparserfromhell.parse(x).strip_code())"
   ]
  },
  {
   "cell_type": "markdown",
   "metadata": {},
   "source": [
    "Extract the genotype information from the SNPedia's Genotype template:"
   ]
  },
  {
   "cell_type": "code",
   "execution_count": 229,
   "metadata": {},
   "outputs": [],
   "source": [
    "def extract_genotype_template_params(item):\n",
    "    template = find_template(mwparserfromhell.parse(item[\"text\"]).filter_templates(), \"Genotype\")\n",
    "    if template is None:\n",
    "        # No genotype template found\n",
    "        return {}\n",
    "\n",
    "    # extract the parameters from the template\n",
    "    iid = template.get(\"iid\").value.strip() if template.has(\"iid\") else None\n",
    "    allele1 = template.get(\"allele1\").value.strip() if template.has(\"allele1\") else None\n",
    "    allele2 = template.get(\"allele2\").value.strip() if template.has(\"allele2\") else None\n",
    "    magnitude = template.get(\"magnitude\").value.strip() if template.has(\"magnitude\") else None\n",
    "    repute = template.get(\"repute\").value.strip() if template.has(\"repute\") else None\n",
    "    summary = template.get(\"summary\").value.strip() if template.has(\"summary\") else None\n",
    "\n",
    "    genotype_params = {\n",
    "        \"iid\": iid,\n",
    "        \"allele1\": allele1,\n",
    "        \"allele2\": allele2,\n",
    "        \"magnitude\": magnitude,\n",
    "        \"repute\": repute,\n",
    "        \"summary\": summary\n",
    "    }\n",
    "\n",
    "    return genotype_params\n",
    "\n",
    "df = pd.concat([df, df.apply(extract_genotype_template_params, axis=1, result_type=\"expand\")], axis=1)"
   ]
  },
  {
   "cell_type": "code",
   "execution_count": 231,
   "metadata": {},
   "outputs": [],
   "source": [
    "df.to_pickle('dataset/genotypes_texts.pkl')"
   ]
  },
  {
   "cell_type": "code",
   "execution_count": 232,
   "metadata": {},
   "outputs": [],
   "source": [
    "df = pd.read_pickle('dataset/genotypes_texts.pkl')"
   ]
  },
  {
   "cell_type": "code",
   "execution_count": 233,
   "metadata": {},
   "outputs": [
    {
     "data": {
      "text/html": [
       "<div>\n",
       "<style scoped>\n",
       "    .dataframe tbody tr th:only-of-type {\n",
       "        vertical-align: middle;\n",
       "    }\n",
       "\n",
       "    .dataframe tbody tr th {\n",
       "        vertical-align: top;\n",
       "    }\n",
       "\n",
       "    .dataframe thead th {\n",
       "        text-align: right;\n",
       "    }\n",
       "</style>\n",
       "<table border=\"1\" class=\"dataframe\">\n",
       "  <thead>\n",
       "    <tr style=\"text-align: right;\">\n",
       "      <th></th>\n",
       "      <th>text</th>\n",
       "      <th>genotype</th>\n",
       "      <th>snp</th>\n",
       "      <th>description</th>\n",
       "      <th>iid</th>\n",
       "      <th>allele1</th>\n",
       "      <th>allele2</th>\n",
       "      <th>magnitude</th>\n",
       "      <th>repute</th>\n",
       "      <th>summary</th>\n",
       "    </tr>\n",
       "    <tr>\n",
       "      <th>title</th>\n",
       "      <th></th>\n",
       "      <th></th>\n",
       "      <th></th>\n",
       "      <th></th>\n",
       "      <th></th>\n",
       "      <th></th>\n",
       "      <th></th>\n",
       "      <th></th>\n",
       "      <th></th>\n",
       "      <th></th>\n",
       "    </tr>\n",
       "  </thead>\n",
       "  <tbody>\n",
       "    <tr>\n",
       "      <th>I15006212(C;C)</th>\n",
       "      <td>{{Genotype\\n|iid=15006212\\n|allele1=C\\n|allele...</td>\n",
       "      <td>C;C</td>\n",
       "      <td>i15006212</td>\n",
       "      <td></td>\n",
       "      <td>15006212</td>\n",
       "      <td>C</td>\n",
       "      <td>C</td>\n",
       "      <td>0</td>\n",
       "      <td>Good</td>\n",
       "      <td>normal</td>\n",
       "    </tr>\n",
       "    <tr>\n",
       "      <th>I15006212(C;T)</th>\n",
       "      <td>{{Genotype\\n|iid=15006212\\n|allele1=C\\n|allele...</td>\n",
       "      <td>C;T</td>\n",
       "      <td>i15006212</td>\n",
       "      <td></td>\n",
       "      <td>15006212</td>\n",
       "      <td>C</td>\n",
       "      <td>T</td>\n",
       "      <td>4</td>\n",
       "      <td>Bad</td>\n",
       "      <td>Rhizomelic Chondrodysplasia Punctata Type 1 ca...</td>\n",
       "    </tr>\n",
       "    <tr>\n",
       "      <th>I15006212(T;T)</th>\n",
       "      <td>{{Genotype\\n|iid=15006212\\n|allele1=T\\n|allele...</td>\n",
       "      <td>T;T</td>\n",
       "      <td>i15006212</td>\n",
       "      <td>Rhizomelic chondrodysplasia punctata type 1 (R...</td>\n",
       "      <td>15006212</td>\n",
       "      <td>T</td>\n",
       "      <td>T</td>\n",
       "      <td>7</td>\n",
       "      <td>Bad</td>\n",
       "      <td>Rhizomelic Chondrodysplasia Punctata Type 1 (R...</td>\n",
       "    </tr>\n",
       "    <tr>\n",
       "      <th>I3000043(G;G)</th>\n",
       "      <td>{{Genotype\\n|iid=3000043\\n|allele1=G\\n|allele2...</td>\n",
       "      <td>G;G</td>\n",
       "      <td>i3000043</td>\n",
       "      <td></td>\n",
       "      <td>3000043</td>\n",
       "      <td>G</td>\n",
       "      <td>G</td>\n",
       "      <td>None</td>\n",
       "      <td>None</td>\n",
       "      <td>None</td>\n",
       "    </tr>\n",
       "    <tr>\n",
       "      <th>I3001801(C;C)</th>\n",
       "      <td>{{Genotype\\n|allele1=C\\n|allele2=C\\n|iid=30018...</td>\n",
       "      <td>C;C</td>\n",
       "      <td>i3001801</td>\n",
       "      <td></td>\n",
       "      <td>3001801</td>\n",
       "      <td>C</td>\n",
       "      <td>C</td>\n",
       "      <td>0</td>\n",
       "      <td>Good</td>\n",
       "      <td>None</td>\n",
       "    </tr>\n",
       "    <tr>\n",
       "      <th>...</th>\n",
       "      <td>...</td>\n",
       "      <td>...</td>\n",
       "      <td>...</td>\n",
       "      <td>...</td>\n",
       "      <td>...</td>\n",
       "      <td>...</td>\n",
       "      <td>...</td>\n",
       "      <td>...</td>\n",
       "      <td>...</td>\n",
       "      <td>...</td>\n",
       "    </tr>\n",
       "    <tr>\n",
       "      <th>Rs9986786(C;C)</th>\n",
       "      <td>{{Genotype\\n|rsid=9986786\\n|allele1=C\\n|allele...</td>\n",
       "      <td>C;C</td>\n",
       "      <td>rs9986786</td>\n",
       "      <td></td>\n",
       "      <td>None</td>\n",
       "      <td>C</td>\n",
       "      <td>C</td>\n",
       "      <td>0</td>\n",
       "      <td>Good</td>\n",
       "      <td>None</td>\n",
       "    </tr>\n",
       "    <tr>\n",
       "      <th>Rs9987289(G;G)</th>\n",
       "      <td>{{Genotype\\n|rsid=9987289\\n|allele1=G\\n|allele...</td>\n",
       "      <td>G;G</td>\n",
       "      <td>rs9987289</td>\n",
       "      <td></td>\n",
       "      <td>None</td>\n",
       "      <td>G</td>\n",
       "      <td>G</td>\n",
       "      <td>0</td>\n",
       "      <td>Good</td>\n",
       "      <td>common on affy axiom data</td>\n",
       "    </tr>\n",
       "    <tr>\n",
       "      <th>Rs999380946(C;C)</th>\n",
       "      <td>{{Genotype\\n|rsid=999380946\\n|allele1=C\\n|alle...</td>\n",
       "      <td>C;C</td>\n",
       "      <td>rs999380946</td>\n",
       "      <td></td>\n",
       "      <td>None</td>\n",
       "      <td>C</td>\n",
       "      <td>C</td>\n",
       "      <td>0</td>\n",
       "      <td>Good</td>\n",
       "      <td>common in clinvar</td>\n",
       "    </tr>\n",
       "    <tr>\n",
       "      <th>Rs999737(C;C)</th>\n",
       "      <td>{{Genotype\\n|rsid=999737\\n|allele1=C\\n|allele2...</td>\n",
       "      <td>C;C</td>\n",
       "      <td>rs999737</td>\n",
       "      <td></td>\n",
       "      <td>None</td>\n",
       "      <td>C</td>\n",
       "      <td>C</td>\n",
       "      <td>0</td>\n",
       "      <td>Good</td>\n",
       "      <td>common on affy axiom data</td>\n",
       "    </tr>\n",
       "    <tr>\n",
       "      <th>Rs9999118(A;A)</th>\n",
       "      <td>{{Genotype\\n|rsid=9999118\\n|allele1=A\\n|allele...</td>\n",
       "      <td>A;A</td>\n",
       "      <td>rs9999118</td>\n",
       "      <td></td>\n",
       "      <td>None</td>\n",
       "      <td>A</td>\n",
       "      <td>A</td>\n",
       "      <td>0</td>\n",
       "      <td>Good</td>\n",
       "      <td>common genotype</td>\n",
       "    </tr>\n",
       "  </tbody>\n",
       "</table>\n",
       "<p>104806 rows × 10 columns</p>\n",
       "</div>"
      ],
      "text/plain": [
       "                                                               text genotype  \\\n",
       "title                                                                          \n",
       "I15006212(C;C)    {{Genotype\\n|iid=15006212\\n|allele1=C\\n|allele...      C;C   \n",
       "I15006212(C;T)    {{Genotype\\n|iid=15006212\\n|allele1=C\\n|allele...      C;T   \n",
       "I15006212(T;T)    {{Genotype\\n|iid=15006212\\n|allele1=T\\n|allele...      T;T   \n",
       "I3000043(G;G)     {{Genotype\\n|iid=3000043\\n|allele1=G\\n|allele2...      G;G   \n",
       "I3001801(C;C)     {{Genotype\\n|allele1=C\\n|allele2=C\\n|iid=30018...      C;C   \n",
       "...                                                             ...      ...   \n",
       "Rs9986786(C;C)    {{Genotype\\n|rsid=9986786\\n|allele1=C\\n|allele...      C;C   \n",
       "Rs9987289(G;G)    {{Genotype\\n|rsid=9987289\\n|allele1=G\\n|allele...      G;G   \n",
       "Rs999380946(C;C)  {{Genotype\\n|rsid=999380946\\n|allele1=C\\n|alle...      C;C   \n",
       "Rs999737(C;C)     {{Genotype\\n|rsid=999737\\n|allele1=C\\n|allele2...      C;C   \n",
       "Rs9999118(A;A)    {{Genotype\\n|rsid=9999118\\n|allele1=A\\n|allele...      A;A   \n",
       "\n",
       "                          snp  \\\n",
       "title                           \n",
       "I15006212(C;C)      i15006212   \n",
       "I15006212(C;T)      i15006212   \n",
       "I15006212(T;T)      i15006212   \n",
       "I3000043(G;G)        i3000043   \n",
       "I3001801(C;C)        i3001801   \n",
       "...                       ...   \n",
       "Rs9986786(C;C)      rs9986786   \n",
       "Rs9987289(G;G)      rs9987289   \n",
       "Rs999380946(C;C)  rs999380946   \n",
       "Rs999737(C;C)        rs999737   \n",
       "Rs9999118(A;A)      rs9999118   \n",
       "\n",
       "                                                        description       iid  \\\n",
       "title                                                                           \n",
       "I15006212(C;C)                                                       15006212   \n",
       "I15006212(C;T)                                                       15006212   \n",
       "I15006212(T;T)    Rhizomelic chondrodysplasia punctata type 1 (R...  15006212   \n",
       "I3000043(G;G)                                                         3000043   \n",
       "I3001801(C;C)                                                         3001801   \n",
       "...                                                             ...       ...   \n",
       "Rs9986786(C;C)                                                           None   \n",
       "Rs9987289(G;G)                                                           None   \n",
       "Rs999380946(C;C)                                                         None   \n",
       "Rs999737(C;C)                                                            None   \n",
       "Rs9999118(A;A)                                                           None   \n",
       "\n",
       "                 allele1 allele2 magnitude repute  \\\n",
       "title                                               \n",
       "I15006212(C;C)         C       C         0   Good   \n",
       "I15006212(C;T)         C       T         4    Bad   \n",
       "I15006212(T;T)         T       T         7    Bad   \n",
       "I3000043(G;G)          G       G      None   None   \n",
       "I3001801(C;C)          C       C         0   Good   \n",
       "...                  ...     ...       ...    ...   \n",
       "Rs9986786(C;C)         C       C         0   Good   \n",
       "Rs9987289(G;G)         G       G         0   Good   \n",
       "Rs999380946(C;C)       C       C         0   Good   \n",
       "Rs999737(C;C)          C       C         0   Good   \n",
       "Rs9999118(A;A)         A       A         0   Good   \n",
       "\n",
       "                                                            summary  \n",
       "title                                                                \n",
       "I15006212(C;C)                                               normal  \n",
       "I15006212(C;T)    Rhizomelic Chondrodysplasia Punctata Type 1 ca...  \n",
       "I15006212(T;T)    Rhizomelic Chondrodysplasia Punctata Type 1 (R...  \n",
       "I3000043(G;G)                                                  None  \n",
       "I3001801(C;C)                                                  None  \n",
       "...                                                             ...  \n",
       "Rs9986786(C;C)                                                 None  \n",
       "Rs9987289(G;G)                            common on affy axiom data  \n",
       "Rs999380946(C;C)                                  common in clinvar  \n",
       "Rs999737(C;C)                             common on affy axiom data  \n",
       "Rs9999118(A;A)                                      common genotype  \n",
       "\n",
       "[104806 rows x 10 columns]"
      ]
     },
     "execution_count": 233,
     "metadata": {},
     "output_type": "execute_result"
    }
   ],
   "source": [
    "df"
   ]
  },
  {
   "cell_type": "code",
   "execution_count": null,
   "metadata": {},
   "outputs": [],
   "source": [
    "df.to_csv('dataset/genotypes.csv', columns=['snp', 'genotype', 'allele1', 'allele2', 'magnitude', 'repute', 'summary', 'description'])"
   ]
  }
 ],
 "metadata": {
  "kernelspec": {
   "display_name": "base",
   "language": "python",
   "name": "python3"
  },
  "language_info": {
   "codemirror_mode": {
    "name": "ipython",
    "version": 3
   },
   "file_extension": ".py",
   "mimetype": "text/x-python",
   "name": "python",
   "nbconvert_exporter": "python",
   "pygments_lexer": "ipython3",
   "version": "3.12.1"
  }
 },
 "nbformat": 4,
 "nbformat_minor": 2
}
